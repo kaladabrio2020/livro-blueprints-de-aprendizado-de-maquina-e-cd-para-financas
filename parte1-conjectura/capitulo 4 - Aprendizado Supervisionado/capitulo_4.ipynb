{
 "cells": [
  {
   "cell_type": "markdown",
   "id": "7170f393",
   "metadata": {},
   "source": [
    "# Aprendizado Supervisionado"
   ]
  },
  {
   "cell_type": "markdown",
   "id": "78e49409",
   "metadata": {},
   "source": [
    "Não vamos nos aprofundar muito nesse tema somente passando um revisada"
   ]
  },
  {
   "cell_type": "markdown",
   "id": "78ada133",
   "metadata": {},
   "source": [
    "## Regressão Linear \n",
    "É facil de interpretar e entender. No entanto, pode não funcionar bem quando há uma relação não linear entrre as variaveis previstas e previsoras. Tem tendencia de sobreajuste, quanto a grande numero de features talvez nçao lide bem, exige certas hipotese como **multicolinearidade**\n",
    "\n",
    "## Regressão reguralizada\n",
    "\n",
    "1. L1 ou Lasso\n",
    "\n",
    "```python\n",
    "from sklearn.linear_model import Lasso\n",
    "lasso = Lasso()\n",
    "lasso.fit(X, y)\n",
    "```\n",
    "\n",
    "* Quanto maior o alpha mais proximo as features irrevalntes se aproximam de zero\n",
    "\n",
    "2. L2 ou Ridge\n",
    "```python\n",
    "from sklearn.linear_model import Ridge\n",
    "Ridge = Ridge()\n",
    "Ridge.fit(X, y)\n",
    "```\n",
    "\n",
    "* Reduz todos as fetures , quando maior alpha mais se aproximam de zero\n",
    "\n",
    "2. ElasticNet\n",
    "```python\n",
    "from sklearn.linear_model import ElasticNet\n",
    "ElasticNet = ElasticNet()\n",
    "ElasticNet.fit(X, y)\n",
    "```\n",
    "\n",
    "* Mescla L2 e L1\n",
    "\n",
    "\n",
    "## Regressão Logistica\n"
   ]
  }
 ],
 "metadata": {
  "language_info": {
   "name": "python"
  }
 },
 "nbformat": 4,
 "nbformat_minor": 5
}
