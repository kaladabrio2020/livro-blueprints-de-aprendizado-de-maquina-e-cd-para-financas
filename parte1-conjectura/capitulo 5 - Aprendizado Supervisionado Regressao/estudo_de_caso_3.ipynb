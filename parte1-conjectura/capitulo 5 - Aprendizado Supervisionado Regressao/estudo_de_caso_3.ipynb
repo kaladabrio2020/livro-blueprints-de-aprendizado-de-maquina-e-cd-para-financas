{
 "cells": [
  {
   "cell_type": "markdown",
   "id": "5a1dd39c",
   "metadata": {},
   "source": [
    "# Estudo de Caso 3: Tolerancia do investidor ao Risco e Robos Advisors\n",
    "\n",
    "* Criar um modelo capaz de prever a tolerancia ao risco de um investidor.\n",
    "* Criar uma dashboard do robo advisor"
   ]
  },
  {
   "cell_type": "code",
   "execution_count": 1,
   "id": "3f4f3078",
   "metadata": {},
   "outputs": [],
   "source": [
    "import pandas as pd\n",
    "import numpy as np\n",
    "\n",
    "import seaborn as sns\n",
    "import matplotlib.pyplot as plt\n",
    "import statsmodels.api as sm\n",
    "\n",
    "from pandas.plotting import scatter_matrix\n",
    "from statsmodels.graphics.tsaplots import plot_acf\n",
    "from statsmodels.tsa.arima_model import ARIMA\n",
    "import yfinance as yf\n",
    "from sklearn.linear_model import (\n",
    "    LinearRegression,\n",
    "    Lasso,\n",
    "    ElasticNet\n",
    ")\n",
    "\n",
    "from sklearn.tree      import DecisionTreeRegressor\n",
    "from sklearn.neighbors import KNeighborsRegressor\n",
    "from sklearn.svm       import SVR\n",
    "\n",
    "from sklearn.ensemble import (\n",
    "    RandomForestRegressor,\n",
    "    GradientBoostingRegressor,\n",
    "    ExtraTreesRegressor,\n",
    "    AdaBoostRegressor\n",
    ")\n",
    "\n",
    "from sklearn.neural_network import MLPRegressor\n",
    "\n",
    "# Para analise de dados e a avaliacao de modelos\n",
    "from sklearn.model_selection import (\n",
    "    train_test_split,\n",
    "    cross_val_score,\n",
    "    KFold,\n",
    "    GridSearchCV,\n",
    ")\n",
    "\n",
    "from sklearn.feature_selection import (\n",
    "    SelectKBest,\n",
    "    chi2, f_regression\n",
    ")\n",
    "\n",
    "from sklearn.preprocessing import StandardScaler\n",
    "from sklearn.metrics import (\n",
    "    mean_squared_error,\n",
    "    mean_absolute_error,\n",
    "    r2_score\n",
    ")\n",
    "\n",
    "# RNA\n",
    "import tensorflow as tf\n",
    "import keras\n"
   ]
  },
  {
   "cell_type": "code",
   "execution_count": 2,
   "id": "dd208e34",
   "metadata": {},
   "outputs": [],
   "source": [
    "data = pd.read_excel('dataset/SCFP2009panel.xlsx')"
   ]
  },
  {
   "cell_type": "code",
   "execution_count": 3,
   "id": "c074553f",
   "metadata": {},
   "outputs": [
    {
     "data": {
      "text/html": [
       "<div>\n",
       "<style scoped>\n",
       "    .dataframe tbody tr th:only-of-type {\n",
       "        vertical-align: middle;\n",
       "    }\n",
       "\n",
       "    .dataframe tbody tr th {\n",
       "        vertical-align: top;\n",
       "    }\n",
       "\n",
       "    .dataframe thead th {\n",
       "        text-align: right;\n",
       "    }\n",
       "</style>\n",
       "<table border=\"1\" class=\"dataframe\">\n",
       "  <thead>\n",
       "    <tr style=\"text-align: right;\">\n",
       "      <th></th>\n",
       "      <th>YY1</th>\n",
       "      <th>Y1</th>\n",
       "      <th>WGT09</th>\n",
       "      <th>AGE07</th>\n",
       "      <th>AGECL07</th>\n",
       "      <th>EDUC07</th>\n",
       "      <th>EDCL07</th>\n",
       "      <th>MARRIED07</th>\n",
       "      <th>KIDS07</th>\n",
       "      <th>LIFECL07</th>\n",
       "      <th>...</th>\n",
       "      <th>NHMORTPCT</th>\n",
       "      <th>WAGEINCPCT</th>\n",
       "      <th>BUSSEFARMINCPCT</th>\n",
       "      <th>INTDIVINCPCT</th>\n",
       "      <th>KGINCPCT</th>\n",
       "      <th>SSRETINCPCT</th>\n",
       "      <th>TRANSFOTHINCPCT</th>\n",
       "      <th>PSAVINGPCT</th>\n",
       "      <th>LEVERAGEPCT</th>\n",
       "      <th>I</th>\n",
       "    </tr>\n",
       "  </thead>\n",
       "  <tbody>\n",
       "    <tr>\n",
       "      <th>0</th>\n",
       "      <td>1</td>\n",
       "      <td>11</td>\n",
       "      <td>11668.134198</td>\n",
       "      <td>47</td>\n",
       "      <td>3</td>\n",
       "      <td>12</td>\n",
       "      <td>2</td>\n",
       "      <td>1</td>\n",
       "      <td>0</td>\n",
       "      <td>2</td>\n",
       "      <td>...</td>\n",
       "      <td>-21.052632</td>\n",
       "      <td>-32.931828</td>\n",
       "      <td>0.0</td>\n",
       "      <td>15939.278937</td>\n",
       "      <td>0.0</td>\n",
       "      <td>0.0</td>\n",
       "      <td>0.0</td>\n",
       "      <td>93.125197</td>\n",
       "      <td>270.403054</td>\n",
       "      <td>57</td>\n",
       "    </tr>\n",
       "    <tr>\n",
       "      <th>1</th>\n",
       "      <td>1</td>\n",
       "      <td>12</td>\n",
       "      <td>11823.456494</td>\n",
       "      <td>47</td>\n",
       "      <td>3</td>\n",
       "      <td>12</td>\n",
       "      <td>2</td>\n",
       "      <td>1</td>\n",
       "      <td>0</td>\n",
       "      <td>2</td>\n",
       "      <td>...</td>\n",
       "      <td>-21.052632</td>\n",
       "      <td>-32.931828</td>\n",
       "      <td>0.0</td>\n",
       "      <td>15939.278937</td>\n",
       "      <td>0.0</td>\n",
       "      <td>0.0</td>\n",
       "      <td>0.0</td>\n",
       "      <td>93.125197</td>\n",
       "      <td>249.593620</td>\n",
       "      <td>57</td>\n",
       "    </tr>\n",
       "  </tbody>\n",
       "</table>\n",
       "<p>2 rows × 515 columns</p>\n",
       "</div>"
      ],
      "text/plain": [
       "   YY1  Y1         WGT09  AGE07  AGECL07  EDUC07  EDCL07  MARRIED07  KIDS07  \\\n",
       "0    1  11  11668.134198     47        3      12       2          1       0   \n",
       "1    1  12  11823.456494     47        3      12       2          1       0   \n",
       "\n",
       "   LIFECL07  ...  NHMORTPCT  WAGEINCPCT  BUSSEFARMINCPCT  INTDIVINCPCT  \\\n",
       "0         2  ... -21.052632  -32.931828              0.0  15939.278937   \n",
       "1         2  ... -21.052632  -32.931828              0.0  15939.278937   \n",
       "\n",
       "   KGINCPCT  SSRETINCPCT  TRANSFOTHINCPCT  PSAVINGPCT  LEVERAGEPCT   I  \n",
       "0       0.0          0.0              0.0   93.125197   270.403054  57  \n",
       "1       0.0          0.0              0.0   93.125197   249.593620  57  \n",
       "\n",
       "[2 rows x 515 columns]"
      ]
     },
     "execution_count": 3,
     "metadata": {},
     "output_type": "execute_result"
    }
   ],
   "source": [
    "data.head(2)"
   ]
  },
  {
   "cell_type": "markdown",
   "id": "777e29fd",
   "metadata": {},
   "source": [
    "### Preparando a variavel prevista \n",
    "\n",
    "1. Compute os ativos arricados e sem risco para todos os individuos nos dados da pesquisa\n",
    "    * Ativos arricados : fundos mutuos.ações e titulos\n",
    "    * Ativos sem risco : conta-corrente e poupança, certificados de deposito e outros saldo em caixa"
   ]
  },
  {
   "cell_type": "code",
   "execution_count": 4,
   "id": "6632e3d5",
   "metadata": {},
   "outputs": [],
   "source": [
    "# Computar os ativos arriscados e não arriscado para 2007\n",
    "data['RiskFree07'] = data['LIQ07'] + data['CDS07'] + data['SAVBND07'] + data['CASHLI07']\n",
    "data['Risk07'] = data['NMMF07'] + data['STOCKS07'] + data['BOND07']"
   ]
  },
  {
   "cell_type": "code",
   "execution_count": 5,
   "id": "83045915",
   "metadata": {},
   "outputs": [],
   "source": [
    "# Computar os ativos arriscados e não arriscado para 2009\n",
    "data['RiskFree09'] = data['LIQ09'] + data['CDS09'] + data['SAVBND09'] + data['CASHLI09']\n",
    "data['Risk09'] = data['NMMF09'] + data['STOCKS09'] + data['BOND09']"
   ]
  },
  {
   "cell_type": "code",
   "execution_count": 6,
   "id": "fc6b4216",
   "metadata": {},
   "outputs": [],
   "source": [
    "# Computa a torelancia ao risco\n",
    "data['RT07'] = data['Risk07']/(data['Risk07'] + data['RiskFree07'])"
   ]
  },
  {
   "cell_type": "code",
   "execution_count": 7,
   "id": "da46511e",
   "metadata": {},
   "outputs": [],
   "source": [
    "Avg_SP500_2007 = 1478\n",
    "Avg_SP500_2009 = 948"
   ]
  },
  {
   "cell_type": "code",
   "execution_count": 8,
   "id": "27d36b57",
   "metadata": {},
   "outputs": [],
   "source": [
    "# Computa a tolrancia ao risco para 2009\n",
    "data['RT09'] = data['Risk09']/(data['Risk09'] + data['RiskFree09'])*(Avg_SP500_2009/Avg_SP500_2007) "
   ]
  },
  {
   "cell_type": "code",
   "execution_count": 9,
   "id": "d5e0f3e7",
   "metadata": {},
   "outputs": [],
   "source": [
    "# Percentual de torência ao risco\n",
    "data['PercentageChange'] = np.abs(data['RT09'] / data['RT07'] - 1)"
   ]
  },
  {
   "cell_type": "code",
   "execution_count": 10,
   "id": "c20a6a20",
   "metadata": {},
   "outputs": [],
   "source": [
    "data.dropna(inplace=True)"
   ]
  },
  {
   "cell_type": "code",
   "execution_count": 11,
   "id": "f5617c7e",
   "metadata": {},
   "outputs": [],
   "source": [
    "data= data[~data.isin([np.inf, -np.inf]).any(axis=1)]"
   ]
  },
  {
   "cell_type": "markdown",
   "id": "23e511c1",
   "metadata": {},
   "source": [
    "Invertigaremos o comportamento de tolerancia ao risco das pessoas em 2007"
   ]
  },
  {
   "cell_type": "code",
   "execution_count": 12,
   "id": "1d9cc915",
   "metadata": {},
   "outputs": [
    {
     "data": {
      "text/plain": [
       "<seaborn.axisgrid.FacetGrid at 0x1d5a67f3d70>"
      ]
     },
     "execution_count": 12,
     "metadata": {},
     "output_type": "execute_result"
    },
    {
     "data": {
      "image/png": "[encoded data removed]",
      "text/plain": [
       "<Figure size 500x500 with 1 Axes>"
      ]
     },
     "metadata": {},
     "output_type": "display_data"
    }
   ],
   "source": [
    "sns.displot(\n",
    "    data['RT07'], kind='hist', kde=False, bins=int(180/5), color='darkblue'\n",
    ")"
   ]
  },
  {
   "cell_type": "markdown",
   "id": "33069dfb",
   "metadata": {},
   "source": [
    "> Em 2007 , vemos um numero significativo de pessoas teve tolerancia ao risco perto de 1, ou seja, seus investimentos estavam perdendo mais para os ativos arriscados."
   ]
  },
  {
   "cell_type": "code",
   "execution_count": 13,
   "id": "b3a72b68",
   "metadata": {},
   "outputs": [
    {
     "data": {
      "text/plain": [
       "<seaborn.axisgrid.FacetGrid at 0x1d5a80784d0>"
      ]
     },
     "execution_count": 13,
     "metadata": {},
     "output_type": "execute_result"
    },
    {
     "data": {
      "image/png": "[encoded data removed]",
      "text/plain": [
       "<Figure size 500x500 with 1 Axes>"
      ]
     },
     "metadata": {},
     "output_type": "display_data"
    }
   ],
   "source": [
    "sns.displot(\n",
    "    data['RT09'], kind='hist', kde=False, bins=int(180/5), color='darkblue'\n",
    ")"
   ]
  },
  {
   "cell_type": "markdown",
   "id": "9ec4f212",
   "metadata": {},
   "source": [
    "> Foi revertido dps da crise"
   ]
  },
  {
   "cell_type": "markdown",
   "id": "69ae3d96",
   "metadata": {},
   "source": [
    "Vamos pegar os insvestidores inteligentes cuja alteração na torelacia de risco entre 2009 e 2007 ficou abaixo de 10%"
   ]
  },
  {
   "cell_type": "code",
   "execution_count": 14,
   "id": "a52d4591",
   "metadata": {},
   "outputs": [],
   "source": [
    "data = data[data['PercentageChange'] <= .1]"
   ]
  },
  {
   "cell_type": "code",
   "execution_count": 15,
   "id": "a71697d1",
   "metadata": {},
   "outputs": [],
   "source": [
    "data['TrueRiskTolerancia'] = (data['RT09'] + data['RT07'])/2"
   ]
  },
  {
   "cell_type": "code",
   "execution_count": 16,
   "id": "812c722d",
   "metadata": {},
   "outputs": [
    {
     "data": {
      "text/plain": [
       "TrueRiskTolerancia\n",
       "0.479110    5\n",
       "0.422015    5\n",
       "0.293300    5\n",
       "0.441075    5\n",
       "0.412034    5\n",
       "           ..\n",
       "0.436557    1\n",
       "0.654302    1\n",
       "0.001832    1\n",
       "0.076191    1\n",
       "0.357442    1\n",
       "Name: count, Length: 237, dtype: int64"
      ]
     },
     "execution_count": 16,
     "metadata": {},
     "output_type": "execute_result"
    }
   ],
   "source": [
    "data['TrueRiskTolerancia'].value_counts()"
   ]
  },
  {
   "cell_type": "markdown",
   "id": "155a2d66",
   "metadata": {},
   "source": [
    "Remonvendo colunas que não necessaria para previsão"
   ]
  },
  {
   "cell_type": "code",
   "execution_count": 17,
   "id": "c83d7a8c",
   "metadata": {},
   "outputs": [],
   "source": [
    "data.drop(columns=['RT07', 'RT09', 'PercentageChange'], inplace=True)"
   ]
  },
  {
   "cell_type": "markdown",
   "id": "4be13243",
   "metadata": {},
   "source": [
    "Nos dados ha mais de 500 features no conj. de dados. No entanto, a literatura academica e a pratica do setor indicam que a tolarancia ao ricos é altamente influenciada pelos atributos :\n",
    "* Demograficos\n",
    "* Financeiros\n",
    "* Comportamentais do investidor\n",
    "* idade\n",
    "* renda atual\n",
    "* capital liquido\n",
    "* disposição em assumir riscos"
   ]
  },
  {
   "cell_type": "markdown",
   "id": "d605db63",
   "metadata": {},
   "source": [
    "\n",
    "**AGE**\n",
    "\n",
    "* Tipo: numérico (inteiro)\n",
    "* Descrição: Idade em anos.\n",
    "* Ex.: 23, 45, 67.\n",
    "* Notas: valores inválidos/ausentes: `NA` ou `99`.\n",
    "\n",
    "**EDUC**\n",
    "\n",
    "* Tipo: categórica ordinal (inteiro)\n",
    "* Descrição: Grau de instrução.\n",
    "* Códigos:\n",
    "\n",
    "  * `1` = Ensino fundamental incompleto\n",
    "  * `2` = Ensino fundamental completo\n",
    "  * `3` = Ensino médio completo\n",
    "  * `4` = Ensino superior completo\n",
    "* Notas: ajustar se o dataset usar categorias diferentes (ex.: pós-graduação).\n",
    "\n",
    "**MARRIED**\n",
    "\n",
    "* Tipo: binária (inteiro)\n",
    "* Descrição: Estado civil (simplificado).\n",
    "* Códigos:\n",
    "\n",
    "  * `1` = Casado(a)\n",
    "  * `2` = Não casado(a) (solteiro, separado, viúvo, etc.)\n",
    "* Notas: se tiver categoria para `divorced` ou `widowed` separar.\n",
    "\n",
    "**OCCU**\n",
    "\n",
    "* Tipo: categórica (inteiro)\n",
    "* Descrição: Ocupação / classificação ocupacional.\n",
    "* Códigos sugeridos:\n",
    "\n",
    "  * `1` = Gerencial / cargos de gestão\n",
    "  * `2` = Profissional / técnico (ex.: engenheiro, professor)\n",
    "  * `3` = Operacional / serviços / comércio (ex.: operário, vendedor)\n",
    "  * `4` = Desempregado\n",
    "* Notas: você pode mapear mais fine-grained se o raw tiver códigos detalhados.\n",
    "\n",
    "**KIDS**\n",
    "\n",
    "* Tipo: numérico (inteiro)\n",
    "* Descrição: Número de filhos dependentes no domicílio.\n",
    "* Ex.: `0`, `1`, `2`, `3+` (pode usar `3` literal ou `3+` representado por `3` e uma flag alternativa).\n",
    "* Notas: tratar `NA` e valores extremos.\n",
    "\n",
    "**WSAVED**\n",
    "\n",
    "* Interpretação/assunção: *wealth saved* ou *willingness to save* — vou assumir **indicador se tem poupança / ativos líquidos**. Se no seu dicionário significar outra coisa, me diz.\n",
    "* Tipo: binária (inteiro) ou contínua (se for valor monetário)\n",
    "* Se binária (sugestão):\n",
    "\n",
    "  * `0` = Não tem poupança / zero ativos líquidos\n",
    "  * `1` = Tem poupança / ativos líquidos > 0\n",
    "* Se contínua: pode ser valor em moeda (ex.: reais).\n",
    "* Notas: confirmar unidade (BRL?) e tratamento de outliers.\n",
    "\n",
    "**NWCAT**\n",
    "\n",
    "* Interpretação/assunção: *net worth category* (categoria de riqueza / patrimônio líquido) — categoria ordinal.\n",
    "* Tipo: categórica ordinal (inteiro)\n",
    "* Códigos sugeridos:\n",
    "\n",
    "  * `1` = Muito baixo (quase nenhuma riqueza)\n",
    "  * `2` = Baixo\n",
    "  * `3` = Médio\n",
    "  * `4` = Alto\n",
    "  * `5` = Muito alto\n",
    "* Notas: ajustar número de classes conforme dataset original.\n",
    "\n",
    "**INCCL**\n",
    "\n",
    "* Interpretação/assunção: *income class* (classe de renda) — categoria ordinal.\n",
    "* Tipo: categórica ordinal (inteiro)\n",
    "* Códigos sugeridos:\n",
    "\n",
    "  * `1` = Muito baixa renda\n",
    "  * `2` = Baixa renda\n",
    "  * `3` = Renda média\n",
    "  * `4` = Alta renda\n",
    "  * `5` = Muito alta renda\n",
    "* Notas: se tiver faixa de renda em valores, converter para classes com cortes (quantis ou limites absolutos).\n",
    "\n",
    "**RISK**\n",
    "\n",
    "* Interpretação/assunção: tolerância a risco / aversão ao risco — escala.\n",
    "* Tipo: ordinal (inteiro)\n",
    "* Códigos sugeridos: (escala Likert 1–5)\n",
    "\n",
    "  * `1` = Muito avesso ao risco\n",
    "  * `2` = Averso ao risco\n",
    "  * `3` = Neutro / moderado\n",
    "  * `4` = Propenso ao risco\n",
    "  * `5` = Muito propenso ao risco\n",
    "* Notas: se RISK for medido por percentuais ou scores, trate como contínua."
   ]
  },
  {
   "cell_type": "code",
   "execution_count": 18,
   "id": "11770546",
   "metadata": {},
   "outputs": [],
   "source": [
    "keep_list = ['AGE07', 'EDCL', 'MARRIED07', 'KIDS07', 'OCCAT107', 'INCOME07', 'RISK07', 'NETWORTH07', 'TrueRiskTolerancia']"
   ]
  },
  {
   "cell_type": "code",
   "execution_count": 19,
   "id": "376064e5",
   "metadata": {},
   "outputs": [],
   "source": [
    "drop_cols = [\n",
    "    col for col in data.columns if col not in keep_list\n",
    "]"
   ]
  },
  {
   "cell_type": "code",
   "execution_count": 20,
   "id": "9f41e2f3",
   "metadata": {},
   "outputs": [],
   "source": [
    "data = data.drop(columns=drop_cols)"
   ]
  },
  {
   "cell_type": "code",
   "execution_count": 21,
   "id": "358d3ea0",
   "metadata": {},
   "outputs": [
    {
     "data": {
      "text/html": [
       "<div>\n",
       "<style scoped>\n",
       "    .dataframe tbody tr th:only-of-type {\n",
       "        vertical-align: middle;\n",
       "    }\n",
       "\n",
       "    .dataframe tbody tr th {\n",
       "        vertical-align: top;\n",
       "    }\n",
       "\n",
       "    .dataframe thead th {\n",
       "        text-align: right;\n",
       "    }\n",
       "</style>\n",
       "<table border=\"1\" class=\"dataframe\">\n",
       "  <thead>\n",
       "    <tr style=\"text-align: right;\">\n",
       "      <th></th>\n",
       "      <th>AGE07</th>\n",
       "      <th>MARRIED07</th>\n",
       "      <th>KIDS07</th>\n",
       "      <th>OCCAT107</th>\n",
       "      <th>INCOME07</th>\n",
       "      <th>RISK07</th>\n",
       "      <th>NETWORTH07</th>\n",
       "      <th>TrueRiskTolerancia</th>\n",
       "    </tr>\n",
       "  </thead>\n",
       "  <tbody>\n",
       "    <tr>\n",
       "      <th>60</th>\n",
       "      <td>77</td>\n",
       "      <td>1</td>\n",
       "      <td>0</td>\n",
       "      <td>3</td>\n",
       "      <td>3.141680e+04</td>\n",
       "      <td>4</td>\n",
       "      <td>2.152490e+05</td>\n",
       "      <td>0.199511</td>\n",
       "    </tr>\n",
       "    <tr>\n",
       "      <th>425</th>\n",
       "      <td>55</td>\n",
       "      <td>1</td>\n",
       "      <td>1</td>\n",
       "      <td>2</td>\n",
       "      <td>2.779588e+06</td>\n",
       "      <td>2</td>\n",
       "      <td>4.964759e+07</td>\n",
       "      <td>0.641458</td>\n",
       "    </tr>\n",
       "    <tr>\n",
       "      <th>1122</th>\n",
       "      <td>85</td>\n",
       "      <td>1</td>\n",
       "      <td>0</td>\n",
       "      <td>2</td>\n",
       "      <td>3.727417e+05</td>\n",
       "      <td>4</td>\n",
       "      <td>5.837768e+07</td>\n",
       "      <td>0.589943</td>\n",
       "    </tr>\n",
       "    <tr>\n",
       "      <th>1190</th>\n",
       "      <td>40</td>\n",
       "      <td>1</td>\n",
       "      <td>3</td>\n",
       "      <td>1</td>\n",
       "      <td>5.324882e+04</td>\n",
       "      <td>3</td>\n",
       "      <td>2.688929e+05</td>\n",
       "      <td>0.434127</td>\n",
       "    </tr>\n",
       "    <tr>\n",
       "      <th>1228</th>\n",
       "      <td>70</td>\n",
       "      <td>1</td>\n",
       "      <td>0</td>\n",
       "      <td>2</td>\n",
       "      <td>3.716767e+04</td>\n",
       "      <td>3</td>\n",
       "      <td>2.015066e+06</td>\n",
       "      <td>0.228218</td>\n",
       "    </tr>\n",
       "    <tr>\n",
       "      <th>...</th>\n",
       "      <td>...</td>\n",
       "      <td>...</td>\n",
       "      <td>...</td>\n",
       "      <td>...</td>\n",
       "      <td>...</td>\n",
       "      <td>...</td>\n",
       "      <td>...</td>\n",
       "      <td>...</td>\n",
       "    </tr>\n",
       "    <tr>\n",
       "      <th>19190</th>\n",
       "      <td>53</td>\n",
       "      <td>1</td>\n",
       "      <td>0</td>\n",
       "      <td>1</td>\n",
       "      <td>1.810460e+05</td>\n",
       "      <td>2</td>\n",
       "      <td>7.580575e+05</td>\n",
       "      <td>0.352094</td>\n",
       "    </tr>\n",
       "    <tr>\n",
       "      <th>19191</th>\n",
       "      <td>53</td>\n",
       "      <td>1</td>\n",
       "      <td>0</td>\n",
       "      <td>1</td>\n",
       "      <td>1.821109e+05</td>\n",
       "      <td>2</td>\n",
       "      <td>7.570219e+05</td>\n",
       "      <td>0.357442</td>\n",
       "    </tr>\n",
       "    <tr>\n",
       "      <th>19192</th>\n",
       "      <td>53</td>\n",
       "      <td>1</td>\n",
       "      <td>0</td>\n",
       "      <td>1</td>\n",
       "      <td>1.810460e+05</td>\n",
       "      <td>2</td>\n",
       "      <td>7.580575e+05</td>\n",
       "      <td>0.352094</td>\n",
       "    </tr>\n",
       "    <tr>\n",
       "      <th>19193</th>\n",
       "      <td>53</td>\n",
       "      <td>1</td>\n",
       "      <td>0</td>\n",
       "      <td>1</td>\n",
       "      <td>1.810460e+05</td>\n",
       "      <td>2</td>\n",
       "      <td>7.580575e+05</td>\n",
       "      <td>0.352094</td>\n",
       "    </tr>\n",
       "    <tr>\n",
       "      <th>19194</th>\n",
       "      <td>53</td>\n",
       "      <td>1</td>\n",
       "      <td>0</td>\n",
       "      <td>1</td>\n",
       "      <td>1.821109e+05</td>\n",
       "      <td>2</td>\n",
       "      <td>7.580575e+05</td>\n",
       "      <td>0.352094</td>\n",
       "    </tr>\n",
       "  </tbody>\n",
       "</table>\n",
       "<p>355 rows × 8 columns</p>\n",
       "</div>"
      ],
      "text/plain": [
       "       AGE07  MARRIED07  KIDS07  OCCAT107      INCOME07  RISK07    NETWORTH07  \\\n",
       "60        77          1       0         3  3.141680e+04       4  2.152490e+05   \n",
       "425       55          1       1         2  2.779588e+06       2  4.964759e+07   \n",
       "1122      85          1       0         2  3.727417e+05       4  5.837768e+07   \n",
       "1190      40          1       3         1  5.324882e+04       3  2.688929e+05   \n",
       "1228      70          1       0         2  3.716767e+04       3  2.015066e+06   \n",
       "...      ...        ...     ...       ...           ...     ...           ...   \n",
       "19190     53          1       0         1  1.810460e+05       2  7.580575e+05   \n",
       "19191     53          1       0         1  1.821109e+05       2  7.570219e+05   \n",
       "19192     53          1       0         1  1.810460e+05       2  7.580575e+05   \n",
       "19193     53          1       0         1  1.810460e+05       2  7.580575e+05   \n",
       "19194     53          1       0         1  1.821109e+05       2  7.580575e+05   \n",
       "\n",
       "       TrueRiskTolerancia  \n",
       "60               0.199511  \n",
       "425              0.641458  \n",
       "1122             0.589943  \n",
       "1190             0.434127  \n",
       "1228             0.228218  \n",
       "...                   ...  \n",
       "19190            0.352094  \n",
       "19191            0.357442  \n",
       "19192            0.352094  \n",
       "19193            0.352094  \n",
       "19194            0.352094  \n",
       "\n",
       "[355 rows x 8 columns]"
      ]
     },
     "execution_count": 21,
     "metadata": {},
     "output_type": "execute_result"
    }
   ],
   "source": [
    "data"
   ]
  },
  {
   "cell_type": "code",
   "execution_count": 22,
   "id": "ff338377",
   "metadata": {},
   "outputs": [
    {
     "data": {
      "text/plain": [
       "<Axes: >"
      ]
     },
     "execution_count": 22,
     "metadata": {},
     "output_type": "execute_result"
    },
    {
     "data": {
      "image/png": "[encoded data removed]",
      "text/plain": [
       "<Figure size 640x480 with 2 Axes>"
      ]
     },
     "metadata": {},
     "output_type": "display_data"
    }
   ],
   "source": [
    "sns.heatmap(data.corr(), annot=True)"
   ]
  },
  {
   "cell_type": "markdown",
   "id": "e71bc343",
   "metadata": {},
   "source": [
    "`Treinando os modelos`"
   ]
  },
  {
   "cell_type": "code",
   "execution_count": 23,
   "id": "f4be0217",
   "metadata": {},
   "outputs": [],
   "source": [
    "models = []\n",
    "\n",
    "models.append(('LinearRegression', LinearRegression()))\n",
    "models.append(('Lasso', Lasso()))\n",
    "models.append(('ElasticNet', ElasticNet()))\n",
    "models.append(('DecisionTree', DecisionTreeRegressor()))\n",
    "models.append(('KNeighbors', KNeighborsRegressor()))\n",
    "models.append(('SVR', SVR()))\n",
    "models.append(('RandomForest', RandomForestRegressor()))\n",
    "models.append(('GradientBoosting', GradientBoostingRegressor()))\n",
    "models.append(('ExtraTrees', ExtraTreesRegressor()))\n",
    "models.append(('AdaBoost', AdaBoostRegressor()))\n",
    "models.append(('MLP', MLPRegressor()))"
   ]
  }
 ],
 "metadata": {
  "kernelspec": {
   "display_name": "venv",
   "language": "python",
   "name": "python3"
  },
  "language_info": {
   "codemirror_mode": {
    "name": "ipython",
    "version": 3
   },
   "file_extension": ".py",
   "mimetype": "text/x-python",
   "name": "python",
   "nbconvert_exporter": "python",
   "pygments_lexer": "ipython3",
   "version": "3.12.10"
  }
 },
 "nbformat": 4,
 "nbformat_minor": 5
}
